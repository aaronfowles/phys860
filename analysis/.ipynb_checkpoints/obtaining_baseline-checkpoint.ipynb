{
 "cells": [
  {
   "cell_type": "markdown",
   "metadata": {},
   "source": [
    "The low_contast_penetration JavaScript code works by assessing whether the mean grey value of a row of 20 pixels is less than a specified threshold. This threshold is determined as a proportion of the grey values of the pixels near 0mm depth. In order to obtain this proportion, I analysed images which a Clinical Scientist had classified and attempted to identify what the mean threshold was. Firstly, I recorded the following data obtained from these images in a spreadsheet. "
   ]
  },
  {
   "cell_type": "code",
   "execution_count": 32,
   "metadata": {
    "collapsed": false
   },
   "outputs": [
    {
     "data": {
      "text/html": [
       "<div>\n",
       "<table border=\"1\" class=\"dataframe\">\n",
       "  <thead>\n",
       "    <tr style=\"text-align: right;\">\n",
       "      <th></th>\n",
       "      <th>image_disc</th>\n",
       "      <th>called_depth_mm</th>\n",
       "      <th>mean_contrast_20px_at zero</th>\n",
       "      <th>mean_contrast_20px_at_called_depth</th>\n",
       "      <th>proportion</th>\n",
       "    </tr>\n",
       "  </thead>\n",
       "  <tbody>\n",
       "    <tr>\n",
       "      <th>count</th>\n",
       "      <td>9.000000</td>\n",
       "      <td>9.000000</td>\n",
       "      <td>9.000000</td>\n",
       "      <td>9.000000</td>\n",
       "      <td>9.000000</td>\n",
       "    </tr>\n",
       "    <tr>\n",
       "      <th>mean</th>\n",
       "      <td>1.444444</td>\n",
       "      <td>88.622222</td>\n",
       "      <td>46.022222</td>\n",
       "      <td>36.700000</td>\n",
       "      <td>0.799536</td>\n",
       "    </tr>\n",
       "    <tr>\n",
       "      <th>std</th>\n",
       "      <td>0.881917</td>\n",
       "      <td>42.302003</td>\n",
       "      <td>8.219151</td>\n",
       "      <td>6.179806</td>\n",
       "      <td>0.040459</td>\n",
       "    </tr>\n",
       "    <tr>\n",
       "      <th>min</th>\n",
       "      <td>1.000000</td>\n",
       "      <td>46.600000</td>\n",
       "      <td>38.400000</td>\n",
       "      <td>31.400000</td>\n",
       "      <td>0.735363</td>\n",
       "    </tr>\n",
       "    <tr>\n",
       "      <th>25%</th>\n",
       "      <td>1.000000</td>\n",
       "      <td>47.200000</td>\n",
       "      <td>41.400000</td>\n",
       "      <td>32.800000</td>\n",
       "      <td>0.791045</td>\n",
       "    </tr>\n",
       "    <tr>\n",
       "      <th>50%</th>\n",
       "      <td>1.000000</td>\n",
       "      <td>84.100000</td>\n",
       "      <td>42.700000</td>\n",
       "      <td>35.100000</td>\n",
       "      <td>0.791730</td>\n",
       "    </tr>\n",
       "    <tr>\n",
       "      <th>75%</th>\n",
       "      <td>1.000000</td>\n",
       "      <td>131.300000</td>\n",
       "      <td>49.400000</td>\n",
       "      <td>37.700000</td>\n",
       "      <td>0.836066</td>\n",
       "    </tr>\n",
       "    <tr>\n",
       "      <th>max</th>\n",
       "      <td>3.000000</td>\n",
       "      <td>134.900000</td>\n",
       "      <td>65.300000</td>\n",
       "      <td>51.700000</td>\n",
       "      <td>0.854167</td>\n",
       "    </tr>\n",
       "  </tbody>\n",
       "</table>\n",
       "</div>"
      ],
      "text/plain": [
       "       image_disc  called_depth_mm  mean_contrast_20px_at zero  \\\n",
       "count    9.000000         9.000000                    9.000000   \n",
       "mean     1.444444        88.622222                   46.022222   \n",
       "std      0.881917        42.302003                    8.219151   \n",
       "min      1.000000        46.600000                   38.400000   \n",
       "25%      1.000000        47.200000                   41.400000   \n",
       "50%      1.000000        84.100000                   42.700000   \n",
       "75%      1.000000       131.300000                   49.400000   \n",
       "max      3.000000       134.900000                   65.300000   \n",
       "\n",
       "       mean_contrast_20px_at_called_depth  proportion  \n",
       "count                            9.000000    9.000000  \n",
       "mean                            36.700000    0.799536  \n",
       "std                              6.179806    0.040459  \n",
       "min                             31.400000    0.735363  \n",
       "25%                             32.800000    0.791045  \n",
       "50%                             35.100000    0.791730  \n",
       "75%                             37.700000    0.836066  \n",
       "max                             51.700000    0.854167  "
      ]
     },
     "execution_count": 32,
     "metadata": {},
     "output_type": "execute_result"
    }
   ],
   "source": [
    "import pandas as pd\n",
    "\n",
    "df = pd.read_csv('baseline_measurements.csv')\n",
    "df.describe()"
   ]
  },
  {
   "cell_type": "markdown",
   "metadata": {},
   "source": [
    "Obtain summary statistics of proportion as crude measure."
   ]
  },
  {
   "cell_type": "code",
   "execution_count": 43,
   "metadata": {
    "collapsed": false
   },
   "outputs": [
    {
     "data": {
      "text/plain": [
       "[(0.70898351100604817, 0.8740124409939517),\n",
       " (0.71940784847702388, 0.87968098952297624),\n",
       " (0.7918836810069444, 0.91644965299305559),\n",
       " (0.63806086841377396, 0.83266512758622591),\n",
       " (0.76753560901397477, 0.90459553898602529),\n",
       " (0.78006487896767718, 0.91075637703232282),\n",
       " (0.70839830681844496, 0.87369124518155483),\n",
       " (0.70928381002186291, 0.87417713997813717),\n",
       " (0.65749551602393608, 0.8444965159760639)]"
      ]
     },
     "execution_count": 43,
     "metadata": {},
     "output_type": "execute_result"
    }
   ],
   "source": [
    "proportion_mean = df['proportion'].mean()\n",
    "proportion_std = df['proportion'].std()\n",
    "\n",
    "xs = list(df.index)\n",
    "ys = list(df.proportion)\n",
    "y_errs = [(i * (1 - i)) for i in ys]\n",
    "\n",
    "err_xs = []\n",
    "err_ys = []\n",
    "\n",
    "for x, y, yerr in zip(xs, ys, y_errs):\n",
    "    err_xs.append((x, x))\n",
    "    err_ys.append((y - yerr/2, y + yerr/2))\n",
    "    \n"
   ]
  },
  {
   "cell_type": "markdown",
   "metadata": {},
   "source": [
    "from bokeh.plotting import figure, show\n",
    "from bokeh.io import output_notebook, show\n",
    "from bokeh.models import Range1d\n",
    "output_notebook()\n",
    "\n",
    "fig = figure()\n",
    "fig.circle(xs,ys)\n",
    "fig.multi_line(err_xs, err_ys)\n",
    "fig.set(y_range=Range1d(0, 1))\n",
    "show(fig)"
   ]
  },
  {
   "cell_type": "markdown",
   "metadata": {},
   "source": [
    "Create 95% confidence intervals for error"
   ]
  },
  {
   "cell_type": "code",
   "execution_count": 15,
   "metadata": {
    "collapsed": false
   },
   "outputs": [
    {
     "data": {
      "text/plain": [
       "0.87883337372257508"
      ]
     },
     "execution_count": 15,
     "metadata": {},
     "output_type": "execute_result"
    }
   ],
   "source": [
    "from scipy.stats import norm\n",
    "\n",
    "lower_CI_bound = proportion_mean - proportion_std*norm.ppf(0.975)\n",
    "upper_CI_bound = proportion_mean + proportion_std*norm.ppf(0.975)"
   ]
  },
  {
   "cell_type": "markdown",
   "metadata": {},
   "source": [
    "Algorithm 1 testing results:"
   ]
  },
  {
   "cell_type": "code",
   "execution_count": 60,
   "metadata": {
    "collapsed": false
   },
   "outputs": [
    {
     "data": {
      "text/html": [
       "<div>\n",
       "<table border=\"1\" class=\"dataframe\">\n",
       "  <thead>\n",
       "    <tr style=\"text-align: right;\">\n",
       "      <th></th>\n",
       "      <th>algorithm1</th>\n",
       "      <th>actual</th>\n",
       "      <th>alg1_diff</th>\n",
       "    </tr>\n",
       "  </thead>\n",
       "  <tbody>\n",
       "    <tr>\n",
       "      <th>0</th>\n",
       "      <td>130.3</td>\n",
       "      <td>126.6</td>\n",
       "      <td>3.7</td>\n",
       "    </tr>\n",
       "    <tr>\n",
       "      <th>1</th>\n",
       "      <td>129.4</td>\n",
       "      <td>132.8</td>\n",
       "      <td>-3.4</td>\n",
       "    </tr>\n",
       "    <tr>\n",
       "      <th>2</th>\n",
       "      <td>139.0</td>\n",
       "      <td>134.9</td>\n",
       "      <td>4.1</td>\n",
       "    </tr>\n",
       "    <tr>\n",
       "      <th>3</th>\n",
       "      <td>44.2</td>\n",
       "      <td>47.2</td>\n",
       "      <td>-3.0</td>\n",
       "    </tr>\n",
       "    <tr>\n",
       "      <th>4</th>\n",
       "      <td>44.1</td>\n",
       "      <td>46.9</td>\n",
       "      <td>-2.8</td>\n",
       "    </tr>\n",
       "    <tr>\n",
       "      <th>5</th>\n",
       "      <td>45.0</td>\n",
       "      <td>47.2</td>\n",
       "      <td>-2.2</td>\n",
       "    </tr>\n",
       "    <tr>\n",
       "      <th>6</th>\n",
       "      <td>44.4</td>\n",
       "      <td>46.6</td>\n",
       "      <td>-2.2</td>\n",
       "    </tr>\n",
       "    <tr>\n",
       "      <th>7</th>\n",
       "      <td>0.0</td>\n",
       "      <td>84.1</td>\n",
       "      <td>-84.1</td>\n",
       "    </tr>\n",
       "    <tr>\n",
       "      <th>8</th>\n",
       "      <td>128.4</td>\n",
       "      <td>131.3</td>\n",
       "      <td>-2.9</td>\n",
       "    </tr>\n",
       "  </tbody>\n",
       "</table>\n",
       "</div>"
      ],
      "text/plain": [
       "   algorithm1  actual  alg1_diff\n",
       "0       130.3   126.6        3.7\n",
       "1       129.4   132.8       -3.4\n",
       "2       139.0   134.9        4.1\n",
       "3        44.2    47.2       -3.0\n",
       "4        44.1    46.9       -2.8\n",
       "5        45.0    47.2       -2.2\n",
       "6        44.4    46.6       -2.2\n",
       "7         0.0    84.1      -84.1\n",
       "8       128.4   131.3       -2.9"
      ]
     },
     "execution_count": 60,
     "metadata": {},
     "output_type": "execute_result"
    }
   ],
   "source": [
    "df2 = pd.read_csv('algorithm1.csv')\n",
    "df2['alg1_diff'] = df2['algorithm1'] - df2['actual']\n",
    "df2[['algorithm1','actual','alg1_diff']]"
   ]
  },
  {
   "cell_type": "markdown",
   "metadata": {},
   "source": [
    "The immediate impression is that the algorithm is generally underestimating the depth and, in one case, not making a judgment at all. Algorithm1 has the following features:\n",
    "cutoff = 0.8 \n",
    "val must be greater than 50 pixels from zero\n",
    "there must have been at least 30 obs at lower threshold and then alg tracks back 30 pixels"
   ]
  },
  {
   "cell_type": "code",
   "execution_count": 70,
   "metadata": {
    "collapsed": false
   },
   "outputs": [
    {
     "data": {
      "text/plain": [
       "27.822942172083653"
      ]
     },
     "execution_count": 70,
     "metadata": {},
     "output_type": "execute_result"
    }
   ],
   "source": [
    "from scipy.stats import ttest_rel\n",
    "t_result = ttest_rel(df2['algorithm1'],df2['actual'])\n",
    "alg1_mean = df2['alg1_diff'].mean()\n",
    "alg1_std = df2['alg1_diff'].std()\n",
    "p_val = t_result[1]\n",
    "alg1_std"
   ]
  },
  {
   "cell_type": "markdown",
   "metadata": {},
   "source": [
    "Algorithm2 features:\n",
    "cutoff = 0.8 \n",
    "val must be greater than 50 pixels from zero\n",
    "there must have been at least 20 obs at lower threshold and then alg tracks back 20 pixels"
   ]
  },
  {
   "cell_type": "code",
   "execution_count": null,
   "metadata": {
    "collapsed": true
   },
   "outputs": [],
   "source": []
  },
  {
   "cell_type": "markdown",
   "metadata": {},
   "source": [
    "Algorithm3 features:\n",
    "cutoff = 0.8 \n",
    "val must be greater than 50 pixels from zero\n",
    "there must have been at least 10 obs at lower threshold and then alg tracks back 10 pixels"
   ]
  },
  {
   "cell_type": "code",
   "execution_count": null,
   "metadata": {
    "collapsed": true
   },
   "outputs": [],
   "source": []
  },
  {
   "cell_type": "markdown",
   "metadata": {},
   "source": [
    "Algorithm4 features:\n",
    "cutoff = 0.8 \n",
    "val must be greater than 20 pixels from zero\n",
    "there must have been at least 10 obs at lower threshold but no backtrack"
   ]
  },
  {
   "cell_type": "code",
   "execution_count": null,
   "metadata": {
    "collapsed": true
   },
   "outputs": [],
   "source": []
  },
  {
   "cell_type": "markdown",
   "metadata": {},
   "source": [
    "Alterations to the algorithm seemed to fail to classify images obtained using linear probes more often than curved linear probes. "
   ]
  }
 ],
 "metadata": {
  "kernelspec": {
   "display_name": "Python 2",
   "language": "python",
   "name": "python2"
  },
  "language_info": {
   "codemirror_mode": {
    "name": "ipython",
    "version": 2
   },
   "file_extension": ".py",
   "mimetype": "text/x-python",
   "name": "python",
   "nbconvert_exporter": "python",
   "pygments_lexer": "ipython2",
   "version": "2.7.11"
  }
 },
 "nbformat": 4,
 "nbformat_minor": 0
}
